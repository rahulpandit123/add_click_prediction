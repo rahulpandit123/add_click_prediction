{
  "nbformat": 4,
  "nbformat_minor": 0,
  "metadata": {
    "colab": {
      "name": "Ad_click_pred_Linear Regression.ipynb",
      "version": "0.3.2",
      "provenance": [],
      "include_colab_link": true
    },
    "kernelspec": {
      "name": "python3",
      "display_name": "Python 3"
    }
  },
  "cells": [
    {
      "cell_type": "markdown",
      "metadata": {
        "id": "view-in-github",
        "colab_type": "text"
      },
      "source": [
        "<a href=\"https://colab.research.google.com/github/rahulpandit123/add_click_prediction/blob/master/Ad_click_pred_Linear_Regression.ipynb\" target=\"_parent\"><img src=\"https://colab.research.google.com/assets/colab-badge.svg\" alt=\"Open In Colab\"/></a>"
      ]
    },
    {
      "metadata": {
        "id": "rwu3WxB0SpXS",
        "colab_type": "code",
        "colab": {}
      },
      "cell_type": "code",
      "source": [
        "import numpy as np\n",
        "import seaborn as sns\n",
        "import matplotlib.pyplot as plt\n",
        "%matplotlib inline\n",
        "import pandas as pd"
      ],
      "execution_count": 0,
      "outputs": []
    },
    {
      "metadata": {
        "id": "9LiU-iD2Sz_-",
        "colab_type": "code",
        "colab": {
          "base_uri": "https://localhost:8080/",
          "height": 141
        },
        "outputId": "8c42388b-ffcd-4d96-a151-f5134670e96b"
      },
      "cell_type": "code",
      "source": [
        "!ls\n",
        "from google.colab import drive\n",
        "drive.mount('/content/drive')\n",
        "\n"
      ],
      "execution_count": 2,
      "outputs": [
        {
          "output_type": "stream",
          "text": [
            "sample_data\n",
            "Go to this URL in a browser: https://accounts.google.com/o/oauth2/auth?client_id=947318989803-6bn6qk8qdgf4n4g3pfee6491hc0brc4i.apps.googleusercontent.com&redirect_uri=urn%3Aietf%3Awg%3Aoauth%3A2.0%3Aoob&scope=email%20https%3A%2F%2Fwww.googleapis.com%2Fauth%2Fdocs.test%20https%3A%2F%2Fwww.googleapis.com%2Fauth%2Fdrive%20https%3A%2F%2Fwww.googleapis.com%2Fauth%2Fdrive.photos.readonly%20https%3A%2F%2Fwww.googleapis.com%2Fauth%2Fpeopleapi.readonly&response_type=code\n",
            "\n",
            "Enter your authorization code:\n",
            "··········\n",
            "Mounted at /content/drive\n"
          ],
          "name": "stdout"
        }
      ]
    },
    {
      "metadata": {
        "id": "oTdN3XUm6GRL",
        "colab_type": "code",
        "colab": {
          "base_uri": "https://localhost:8080/",
          "height": 34
        },
        "outputId": "f3cad900-7575-4b60-ce14-83bf52d273b0"
      },
      "cell_type": "code",
      "source": [
        "!ls"
      ],
      "execution_count": 3,
      "outputs": [
        {
          "output_type": "stream",
          "text": [
            "drive  sample_data\n"
          ],
          "name": "stdout"
        }
      ]
    },
    {
      "metadata": {
        "id": "TwiGEXZQtFKd",
        "colab_type": "code",
        "colab": {
          "base_uri": "https://localhost:8080/",
          "height": 336
        },
        "outputId": "2e62d7ee-7571-45fd-9182-3dfb88654e25"
      },
      "cell_type": "code",
      "source": [
        "from zipfile import ZipFile\n",
        "with ZipFile('/content/drive/My Drive/hackerearth_data/205e1808-6-dataset.zip', 'r') as zf:\n",
        "    zf.extractall('/content/drive/My Drive/hackerearth_data/')"
      ],
      "execution_count": 11,
      "outputs": [
        {
          "output_type": "error",
          "ename": "FileNotFoundError",
          "evalue": "ignored",
          "traceback": [
            "\u001b[0;31m---------------------------------------------------------------------------\u001b[0m",
            "\u001b[0;31mFileNotFoundError\u001b[0m                         Traceback (most recent call last)",
            "\u001b[0;32m<ipython-input-11-b9c018bba805>\u001b[0m in \u001b[0;36m<module>\u001b[0;34m()\u001b[0m\n\u001b[1;32m      1\u001b[0m \u001b[0;32mfrom\u001b[0m \u001b[0mzipfile\u001b[0m \u001b[0;32mimport\u001b[0m \u001b[0mZipFile\u001b[0m\u001b[0;34m\u001b[0m\u001b[0m\n\u001b[0;32m----> 2\u001b[0;31m \u001b[0;32mwith\u001b[0m \u001b[0mZipFile\u001b[0m\u001b[0;34m(\u001b[0m\u001b[0;34m'/content/drive/My Drive/hackerearth_data/205e1808-6-dataset.zip'\u001b[0m\u001b[0;34m,\u001b[0m \u001b[0;34m'r'\u001b[0m\u001b[0;34m)\u001b[0m \u001b[0;32mas\u001b[0m \u001b[0mzf\u001b[0m\u001b[0;34m:\u001b[0m\u001b[0;34m\u001b[0m\u001b[0m\n\u001b[0m\u001b[1;32m      3\u001b[0m     \u001b[0mzf\u001b[0m\u001b[0;34m.\u001b[0m\u001b[0mextractall\u001b[0m\u001b[0;34m(\u001b[0m\u001b[0;34m'/content/drive/My Drive/hackerearth_data/'\u001b[0m\u001b[0;34m)\u001b[0m\u001b[0;34m\u001b[0m\u001b[0m\n",
            "\u001b[0;32m/usr/lib/python3.6/zipfile.py\u001b[0m in \u001b[0;36m__init__\u001b[0;34m(self, file, mode, compression, allowZip64)\u001b[0m\n\u001b[1;32m   1088\u001b[0m             \u001b[0;32mwhile\u001b[0m \u001b[0;32mTrue\u001b[0m\u001b[0;34m:\u001b[0m\u001b[0;34m\u001b[0m\u001b[0m\n\u001b[1;32m   1089\u001b[0m                 \u001b[0;32mtry\u001b[0m\u001b[0;34m:\u001b[0m\u001b[0;34m\u001b[0m\u001b[0m\n\u001b[0;32m-> 1090\u001b[0;31m                     \u001b[0mself\u001b[0m\u001b[0;34m.\u001b[0m\u001b[0mfp\u001b[0m \u001b[0;34m=\u001b[0m \u001b[0mio\u001b[0m\u001b[0;34m.\u001b[0m\u001b[0mopen\u001b[0m\u001b[0;34m(\u001b[0m\u001b[0mfile\u001b[0m\u001b[0;34m,\u001b[0m \u001b[0mfilemode\u001b[0m\u001b[0;34m)\u001b[0m\u001b[0;34m\u001b[0m\u001b[0m\n\u001b[0m\u001b[1;32m   1091\u001b[0m                 \u001b[0;32mexcept\u001b[0m \u001b[0mOSError\u001b[0m\u001b[0;34m:\u001b[0m\u001b[0;34m\u001b[0m\u001b[0m\n\u001b[1;32m   1092\u001b[0m                     \u001b[0;32mif\u001b[0m \u001b[0mfilemode\u001b[0m \u001b[0;32min\u001b[0m \u001b[0mmodeDict\u001b[0m\u001b[0;34m:\u001b[0m\u001b[0;34m\u001b[0m\u001b[0m\n",
            "\u001b[0;31mFileNotFoundError\u001b[0m: [Errno 2] No such file or directory: '/content/drive/My Drive/hackerearth_data/205e1808-6-dataset.zip'"
          ]
        }
      ]
    },
    {
      "metadata": {
        "id": "HX0XDjodS1Yv",
        "colab_type": "code",
        "colab": {}
      },
      "cell_type": "code",
      "source": [
        "data = pd.read_csv('drive/My Drive/hackerearth_data/train.csv')\n",
        "test = pd.read_csv('drive/My Drive/hackerearth_data/test.csv')"
      ],
      "execution_count": 0,
      "outputs": []
    },
    {
      "metadata": {
        "id": "rkO9JACxUa-Y",
        "colab_type": "code",
        "colab": {
          "base_uri": "https://localhost:8080/",
          "height": 293
        },
        "outputId": "c72e1e2b-30b2-472e-c84d-85e2c463cff9"
      },
      "cell_type": "code",
      "source": [
        "test.head()"
      ],
      "execution_count": 28,
      "outputs": [
        {
          "output_type": "execute_result",
          "data": {
            "text/html": [
              "<div>\n",
              "<style scoped>\n",
              "    .dataframe tbody tr th:only-of-type {\n",
              "        vertical-align: middle;\n",
              "    }\n",
              "\n",
              "    .dataframe tbody tr th {\n",
              "        vertical-align: top;\n",
              "    }\n",
              "\n",
              "    .dataframe thead th {\n",
              "        text-align: right;\n",
              "    }\n",
              "</style>\n",
              "<table border=\"1\" class=\"dataframe\">\n",
              "  <thead>\n",
              "    <tr style=\"text-align: right;\">\n",
              "      <th></th>\n",
              "      <th>ID</th>\n",
              "      <th>datetime</th>\n",
              "      <th>siteid</th>\n",
              "      <th>offerid</th>\n",
              "      <th>category</th>\n",
              "      <th>merchant</th>\n",
              "      <th>countrycode</th>\n",
              "      <th>browserid</th>\n",
              "      <th>devid</th>\n",
              "    </tr>\n",
              "  </thead>\n",
              "  <tbody>\n",
              "    <tr>\n",
              "      <th>0</th>\n",
              "      <td>IDFDJVI</td>\n",
              "      <td>2017-01-22 09:55:48</td>\n",
              "      <td>755610.0</td>\n",
              "      <td>808980</td>\n",
              "      <td>17714</td>\n",
              "      <td>26391770</td>\n",
              "      <td>b</td>\n",
              "      <td>Mozilla Firefox</td>\n",
              "      <td>Desktop</td>\n",
              "    </tr>\n",
              "    <tr>\n",
              "      <th>1</th>\n",
              "      <td>IDNWkTQ</td>\n",
              "      <td>2017-01-22 03:54:39</td>\n",
              "      <td>3714899.0</td>\n",
              "      <td>280355</td>\n",
              "      <td>12052</td>\n",
              "      <td>39507200</td>\n",
              "      <td>b</td>\n",
              "      <td>Edge</td>\n",
              "      <td>Tablet</td>\n",
              "    </tr>\n",
              "    <tr>\n",
              "      <th>2</th>\n",
              "      <td>ID9pRmM</td>\n",
              "      <td>2017-01-21 10:25:50</td>\n",
              "      <td>4378333.0</td>\n",
              "      <td>930819</td>\n",
              "      <td>30580</td>\n",
              "      <td>46148550</td>\n",
              "      <td>e</td>\n",
              "      <td>Mozilla Firefox</td>\n",
              "      <td>NaN</td>\n",
              "    </tr>\n",
              "    <tr>\n",
              "      <th>3</th>\n",
              "      <td>IDHaQaj</td>\n",
              "      <td>2017-01-22 14:45:53</td>\n",
              "      <td>1754730.0</td>\n",
              "      <td>612234</td>\n",
              "      <td>11837</td>\n",
              "      <td>8837581</td>\n",
              "      <td>b</td>\n",
              "      <td>Edge</td>\n",
              "      <td>Tablet</td>\n",
              "    </tr>\n",
              "    <tr>\n",
              "      <th>4</th>\n",
              "      <td>IDT2CrF</td>\n",
              "      <td>2017-01-22 09:34:07</td>\n",
              "      <td>5299909.0</td>\n",
              "      <td>524289</td>\n",
              "      <td>45620</td>\n",
              "      <td>31388981</td>\n",
              "      <td>b</td>\n",
              "      <td>Mozilla</td>\n",
              "      <td>NaN</td>\n",
              "    </tr>\n",
              "  </tbody>\n",
              "</table>\n",
              "</div>"
            ],
            "text/plain": [
              "        ID             datetime     siteid  offerid  category  merchant  \\\n",
              "0  IDFDJVI  2017-01-22 09:55:48   755610.0   808980     17714  26391770   \n",
              "1  IDNWkTQ  2017-01-22 03:54:39  3714899.0   280355     12052  39507200   \n",
              "2  ID9pRmM  2017-01-21 10:25:50  4378333.0   930819     30580  46148550   \n",
              "3  IDHaQaj  2017-01-22 14:45:53  1754730.0   612234     11837   8837581   \n",
              "4  IDT2CrF  2017-01-22 09:34:07  5299909.0   524289     45620  31388981   \n",
              "\n",
              "  countrycode        browserid    devid  \n",
              "0           b  Mozilla Firefox  Desktop  \n",
              "1           b             Edge   Tablet  \n",
              "2           e  Mozilla Firefox      NaN  \n",
              "3           b             Edge   Tablet  \n",
              "4           b          Mozilla      NaN  "
            ]
          },
          "metadata": {
            "tags": []
          },
          "execution_count": 28
        }
      ]
    },
    {
      "metadata": {
        "id": "QjUca15nUnBN",
        "colab_type": "code",
        "colab": {
          "base_uri": "https://localhost:8080/",
          "height": 278
        },
        "outputId": "fb2a4e88-23c4-466a-b837-75a1a1e5bac6"
      },
      "cell_type": "code",
      "source": [
        "data.info()"
      ],
      "execution_count": 6,
      "outputs": [
        {
          "output_type": "stream",
          "text": [
            "<class 'pandas.core.frame.DataFrame'>\n",
            "RangeIndex: 12137810 entries, 0 to 12137809\n",
            "Data columns (total 10 columns):\n",
            "ID             object\n",
            "datetime       object\n",
            "siteid         float64\n",
            "offerid        int64\n",
            "category       int64\n",
            "merchant       int64\n",
            "countrycode    object\n",
            "browserid      object\n",
            "devid          object\n",
            "click          int64\n",
            "dtypes: float64(1), int64(4), object(5)\n",
            "memory usage: 926.0+ MB\n"
          ],
          "name": "stdout"
        }
      ]
    },
    {
      "metadata": {
        "id": "w2H62y0YUtpa",
        "colab_type": "code",
        "colab": {
          "base_uri": "https://localhost:8080/",
          "height": 300
        },
        "outputId": "3cda2d0e-63f4-4132-f9d6-9c4889774d6d"
      },
      "cell_type": "code",
      "source": [
        "data.describe()"
      ],
      "execution_count": 7,
      "outputs": [
        {
          "output_type": "execute_result",
          "data": {
            "text/html": [
              "<div>\n",
              "<style scoped>\n",
              "    .dataframe tbody tr th:only-of-type {\n",
              "        vertical-align: middle;\n",
              "    }\n",
              "\n",
              "    .dataframe tbody tr th {\n",
              "        vertical-align: top;\n",
              "    }\n",
              "\n",
              "    .dataframe thead th {\n",
              "        text-align: right;\n",
              "    }\n",
              "</style>\n",
              "<table border=\"1\" class=\"dataframe\">\n",
              "  <thead>\n",
              "    <tr style=\"text-align: right;\">\n",
              "      <th></th>\n",
              "      <th>siteid</th>\n",
              "      <th>offerid</th>\n",
              "      <th>category</th>\n",
              "      <th>merchant</th>\n",
              "      <th>click</th>\n",
              "    </tr>\n",
              "  </thead>\n",
              "  <tbody>\n",
              "    <tr>\n",
              "      <th>count</th>\n",
              "      <td>1.092530e+07</td>\n",
              "      <td>1.213781e+07</td>\n",
              "      <td>1.213781e+07</td>\n",
              "      <td>1.213781e+07</td>\n",
              "      <td>1.213781e+07</td>\n",
              "    </tr>\n",
              "    <tr>\n",
              "      <th>mean</th>\n",
              "      <td>5.023971e+06</td>\n",
              "      <td>4.966571e+05</td>\n",
              "      <td>4.215284e+04</td>\n",
              "      <td>4.901602e+07</td>\n",
              "      <td>3.602083e-02</td>\n",
              "    </tr>\n",
              "    <tr>\n",
              "      <th>std</th>\n",
              "      <td>2.904255e+06</td>\n",
              "      <td>2.897379e+05</td>\n",
              "      <td>2.950048e+04</td>\n",
              "      <td>2.916656e+07</td>\n",
              "      <td>1.863420e-01</td>\n",
              "    </tr>\n",
              "    <tr>\n",
              "      <th>min</th>\n",
              "      <td>7.100000e+01</td>\n",
              "      <td>0.000000e+00</td>\n",
              "      <td>9.700000e+01</td>\n",
              "      <td>2.604430e+05</td>\n",
              "      <td>0.000000e+00</td>\n",
              "    </tr>\n",
              "    <tr>\n",
              "      <th>25%</th>\n",
              "      <td>2.506733e+06</td>\n",
              "      <td>2.475320e+05</td>\n",
              "      <td>1.496000e+04</td>\n",
              "      <td>2.639177e+07</td>\n",
              "      <td>0.000000e+00</td>\n",
              "    </tr>\n",
              "    <tr>\n",
              "      <th>50%</th>\n",
              "      <td>4.984805e+06</td>\n",
              "      <td>4.957550e+05</td>\n",
              "      <td>4.033900e+04</td>\n",
              "      <td>4.861553e+07</td>\n",
              "      <td>0.000000e+00</td>\n",
              "    </tr>\n",
              "    <tr>\n",
              "      <th>75%</th>\n",
              "      <td>7.582930e+06</td>\n",
              "      <td>7.472350e+05</td>\n",
              "      <td>6.678600e+04</td>\n",
              "      <td>7.436361e+07</td>\n",
              "      <td>0.000000e+00</td>\n",
              "    </tr>\n",
              "    <tr>\n",
              "      <th>max</th>\n",
              "      <td>9.999996e+06</td>\n",
              "      <td>9.999980e+05</td>\n",
              "      <td>9.991400e+04</td>\n",
              "      <td>9.977043e+07</td>\n",
              "      <td>1.000000e+00</td>\n",
              "    </tr>\n",
              "  </tbody>\n",
              "</table>\n",
              "</div>"
            ],
            "text/plain": [
              "             siteid       offerid      category      merchant         click\n",
              "count  1.092530e+07  1.213781e+07  1.213781e+07  1.213781e+07  1.213781e+07\n",
              "mean   5.023971e+06  4.966571e+05  4.215284e+04  4.901602e+07  3.602083e-02\n",
              "std    2.904255e+06  2.897379e+05  2.950048e+04  2.916656e+07  1.863420e-01\n",
              "min    7.100000e+01  0.000000e+00  9.700000e+01  2.604430e+05  0.000000e+00\n",
              "25%    2.506733e+06  2.475320e+05  1.496000e+04  2.639177e+07  0.000000e+00\n",
              "50%    4.984805e+06  4.957550e+05  4.033900e+04  4.861553e+07  0.000000e+00\n",
              "75%    7.582930e+06  7.472350e+05  6.678600e+04  7.436361e+07  0.000000e+00\n",
              "max    9.999996e+06  9.999980e+05  9.991400e+04  9.977043e+07  1.000000e+00"
            ]
          },
          "metadata": {
            "tags": []
          },
          "execution_count": 7
        }
      ]
    },
    {
      "metadata": {
        "id": "C2OIDt_QUwyz",
        "colab_type": "code",
        "colab": {
          "base_uri": "https://localhost:8080/",
          "height": 362
        },
        "outputId": "c295e7ce-f5be-4902-cfcb-95750cdc880f"
      },
      "cell_type": "code",
      "source": [
        "sns.set_style('whitegrid')\n",
        "sns.countplot(data=data,x='click')"
      ],
      "execution_count": 8,
      "outputs": [
        {
          "output_type": "stream",
          "text": [
            "/usr/local/lib/python3.6/dist-packages/seaborn/categorical.py:1428: FutureWarning: remove_na is deprecated and is a private function. Do not use.\n",
            "  stat_data = remove_na(group_data)\n"
          ],
          "name": "stderr"
        },
        {
          "output_type": "execute_result",
          "data": {
            "text/plain": [
              "<matplotlib.axes._subplots.AxesSubplot at 0x7f447109d438>"
            ]
          },
          "metadata": {
            "tags": []
          },
          "execution_count": 8
        },
        {
          "output_type": "display_data",
          "data": {
            "image/png": "[encoded data removed]",
            "text/plain": [
              "<matplotlib.figure.Figure at 0x7f44cfcacf98>"
            ]
          },
          "metadata": {
            "tags": []
          }
        }
      ]
    },
    {
      "metadata": {
        "id": "8pf0B_twVQOj",
        "colab_type": "code",
        "colab": {
          "base_uri": "https://localhost:8080/",
          "height": 352
        },
        "outputId": "3f6b1861-18c8-46f9-dbb7-02309d8a8d40"
      },
      "cell_type": "code",
      "source": [
        "sns.set_style('darkgrid')\n",
        "sns.countplot(data=data,x='devid',hue='click')"
      ],
      "execution_count": 9,
      "outputs": [
        {
          "output_type": "stream",
          "text": [
            "/usr/local/lib/python3.6/dist-packages/seaborn/categorical.py:1468: FutureWarning: remove_na is deprecated and is a private function. Do not use.\n",
            "  stat_data = remove_na(group_data[hue_mask])\n"
          ],
          "name": "stderr"
        },
        {
          "output_type": "execute_result",
          "data": {
            "text/plain": [
              "<matplotlib.axes._subplots.AxesSubplot at 0x7f44710d2160>"
            ]
          },
          "metadata": {
            "tags": []
          },
          "execution_count": 9
        },
        {
          "output_type": "display_data",
          "data": {
            "image/png": "[encoded data removed]",
            "text/plain": [
              "<matplotlib.figure.Figure at 0x7f44f1675860>"
            ]
          },
          "metadata": {
            "tags": []
          }
        }
      ]
    },
    {
      "metadata": {
        "id": "0cmdjZIkXaRn",
        "colab_type": "code",
        "colab": {
          "base_uri": "https://localhost:8080/",
          "height": 569
        },
        "outputId": "b5b1f0e8-d02e-4cc7-a10e-2b98a6464281"
      },
      "cell_type": "code",
      "source": [
        "sns.set_style('darkgrid')\n",
        "plt.figure(figsize=(12,8))\n",
        "sns.countplot(data=data,x='browserid',hue='click')"
      ],
      "execution_count": 10,
      "outputs": [
        {
          "output_type": "stream",
          "text": [
            "/usr/local/lib/python3.6/dist-packages/seaborn/categorical.py:1468: FutureWarning: remove_na is deprecated and is a private function. Do not use.\n",
            "  stat_data = remove_na(group_data[hue_mask])\n"
          ],
          "name": "stderr"
        },
        {
          "output_type": "execute_result",
          "data": {
            "text/plain": [
              "<matplotlib.axes._subplots.AxesSubplot at 0x7f44e129aef0>"
            ]
          },
          "metadata": {
            "tags": []
          },
          "execution_count": 10
        },
        {
          "output_type": "display_data",
          "data": {
            "image/png": "[encoded data removed]",
            "text/plain": [
              "<matplotlib.figure.Figure at 0x7f446e79d048>"
            ]
          },
          "metadata": {
            "tags": []
          }
        }
      ]
    },
    {
      "metadata": {
        "id": "Rl2TKq8kYD3f",
        "colab_type": "code",
        "colab": {
          "base_uri": "https://localhost:8080/",
          "height": 460
        },
        "outputId": "fcb55f1b-c250-4420-d933-876176e04e3d"
      },
      "cell_type": "code",
      "source": [
        "sns.set_style('darkgrid')\n",
        "plt.figure(figsize=(12,6))\n",
        "sns.countplot(data=data,x='countrycode',hue='click',palette='Set1')"
      ],
      "execution_count": 11,
      "outputs": [
        {
          "output_type": "stream",
          "text": [
            "/usr/local/lib/python3.6/dist-packages/seaborn/categorical.py:1468: FutureWarning: remove_na is deprecated and is a private function. Do not use.\n",
            "  stat_data = remove_na(group_data[hue_mask])\n"
          ],
          "name": "stderr"
        },
        {
          "output_type": "execute_result",
          "data": {
            "text/plain": [
              "<matplotlib.axes._subplots.AxesSubplot at 0x7f44ea8b0f60>"
            ]
          },
          "metadata": {
            "tags": []
          },
          "execution_count": 11
        },
        {
          "output_type": "display_data",
          "data": {
            "image/png": "[encoded data removed]",
            "text/plain": [
              "<matplotlib.figure.Figure at 0x7f446e7bad68>"
            ]
          },
          "metadata": {
            "tags": []
          }
        }
      ]
    },
    {
      "metadata": {
        "id": "TXKs5f1LZktH",
        "colab_type": "code",
        "colab": {
          "base_uri": "https://localhost:8080/",
          "height": 34
        },
        "outputId": "d86313b4-ea33-4624-f324-6f01cb8813ac"
      },
      "cell_type": "code",
      "source": [
        "data.size"
      ],
      "execution_count": 12,
      "outputs": [
        {
          "output_type": "execute_result",
          "data": {
            "text/plain": [
              "121378100"
            ]
          },
          "metadata": {
            "tags": []
          },
          "execution_count": 12
        }
      ]
    },
    {
      "metadata": {
        "id": "f6my_URPaTRf",
        "colab_type": "code",
        "colab": {
          "base_uri": "https://localhost:8080/",
          "height": 34
        },
        "outputId": "5d7aefae-d196-4d31-cdc1-2135880670da"
      },
      "cell_type": "code",
      "source": [
        "data.shape"
      ],
      "execution_count": 13,
      "outputs": [
        {
          "output_type": "execute_result",
          "data": {
            "text/plain": [
              "(12137810, 10)"
            ]
          },
          "metadata": {
            "tags": []
          },
          "execution_count": 13
        }
      ]
    },
    {
      "metadata": {
        "id": "-KMzZv8zhKA0",
        "colab_type": "code",
        "colab": {
          "base_uri": "https://localhost:8080/",
          "height": 69
        },
        "outputId": "cb542a31-c80c-4eda-aea7-2424f2cfa60d"
      },
      "cell_type": "code",
      "source": [
        "data.columns"
      ],
      "execution_count": 14,
      "outputs": [
        {
          "output_type": "execute_result",
          "data": {
            "text/plain": [
              "Index(['ID', 'datetime', 'siteid', 'offerid', 'category', 'merchant',\n",
              "       'countrycode', 'browserid', 'devid', 'click'],\n",
              "      dtype='object')"
            ]
          },
          "metadata": {
            "tags": []
          },
          "execution_count": 14
        }
      ]
    },
    {
      "metadata": {
        "id": "tyJ4nfCwitaF",
        "colab_type": "code",
        "colab": {
          "base_uri": "https://localhost:8080/",
          "height": 208
        },
        "outputId": "efbf011f-6841-46a9-9c53-64c31dfbd492"
      },
      "cell_type": "code",
      "source": [
        "data.isnull().sum()"
      ],
      "execution_count": 15,
      "outputs": [
        {
          "output_type": "execute_result",
          "data": {
            "text/plain": [
              "ID                   0\n",
              "datetime             0\n",
              "siteid         1212515\n",
              "offerid              0\n",
              "category             0\n",
              "merchant             0\n",
              "countrycode          0\n",
              "browserid       608327\n",
              "devid          1820299\n",
              "click                0\n",
              "dtype: int64"
            ]
          },
          "metadata": {
            "tags": []
          },
          "execution_count": 15
        }
      ]
    },
    {
      "metadata": {
        "id": "FgZKBMyFjHEY",
        "colab_type": "code",
        "colab": {
          "base_uri": "https://localhost:8080/",
          "height": 34
        },
        "outputId": "80839379-bcd1-4e25-c1f7-c15281eced50"
      },
      "cell_type": "code",
      "source": [
        "sns.heatmap(data.isnull(),yticklabels=False,cbar=False,cmap='viridis')"
      ],
      "execution_count": 0,
      "outputs": [
        {
          "output_type": "execute_result",
          "data": {
            "text/plain": [
              "<matplotlib.axes._subplots.AxesSubplot at 0x7f446e6a38d0>"
            ]
          },
          "metadata": {
            "tags": []
          },
          "execution_count": 16
        }
      ]
    },
    {
      "metadata": {
        "id": "0NDCuwrnlk_6",
        "colab_type": "code",
        "colab": {}
      },
      "cell_type": "code",
      "source": [
        "data['browserid'].fillna('Edge',inplace=True)\n",
        "test['browserid'].fillna('Edge',inplace=True)"
      ],
      "execution_count": 0,
      "outputs": []
    },
    {
      "metadata": {
        "id": "xU6JTgNkl47Z",
        "colab_type": "code",
        "colab": {
          "base_uri": "https://localhost:8080/",
          "height": 327
        },
        "outputId": "4be1a9f1-5e14-4149-c2ce-4fd6d22b99ac"
      },
      "cell_type": "code",
      "source": [
        "sns.heatmap(data.isnull(),yticklabels=False,cbar=False,cmap='viridis')\n"
      ],
      "execution_count": 121,
      "outputs": [
        {
          "output_type": "execute_result",
          "data": {
            "text/plain": [
              "<matplotlib.axes._subplots.AxesSubplot at 0x7f575e4432e8>"
            ]
          },
          "metadata": {
            "tags": []
          },
          "execution_count": 121
        },
        {
          "output_type": "display_data",
          "data": {
            "image/png": "[encoded data removed]",
            "text/plain": [
              "<matplotlib.figure.Figure at 0x7f575e50d6d8>"
            ]
          },
          "metadata": {
            "tags": []
          }
        }
      ]
    },
    {
      "metadata": {
        "id": "HkcYsFHNs7kx",
        "colab_type": "code",
        "colab": {}
      },
      "cell_type": "code",
      "source": [
        "mean_siteid = data['siteid'].mean()\n",
        "mean_siteid\n",
        "mean_test = test['siteid'].mean()"
      ],
      "execution_count": 0,
      "outputs": []
    },
    {
      "metadata": {
        "id": "ahEGWg2cthI_",
        "colab_type": "code",
        "colab": {}
      },
      "cell_type": "code",
      "source": [
        "data['siteid'].fillna(5020883.044591596,inplace=True)\n",
        "test['siteid'].fillna(mean_test,inplace=True)"
      ],
      "execution_count": 0,
      "outputs": []
    },
    {
      "metadata": {
        "id": "xgErjFMwu9Gi",
        "colab_type": "code",
        "colab": {}
      },
      "cell_type": "code",
      "source": [
        "data['devid'].fillna('Desktop',inplace=True)\n",
        "test['devid'].fillna('Desktop',inplace=True)\n"
      ],
      "execution_count": 0,
      "outputs": []
    },
    {
      "metadata": {
        "id": "E5oI5bkjD6_j",
        "colab_type": "code",
        "colab": {}
      },
      "cell_type": "code",
      "source": [
        "test.columns\n",
        "test_id = test['ID']"
      ],
      "execution_count": 0,
      "outputs": []
    },
    {
      "metadata": {
        "id": "mtPs0voiEs1t",
        "colab_type": "code",
        "colab": {
          "base_uri": "https://localhost:8080/",
          "height": 1094
        },
        "outputId": "b6ab2701-b20e-414e-f631-6bb20fb6d89e"
      },
      "cell_type": "code",
      "source": [
        "test_id"
      ],
      "execution_count": 50,
      "outputs": [
        {
          "output_type": "execute_result",
          "data": {
            "text/plain": [
              "0          IDFDJVI\n",
              "1          IDNWkTQ\n",
              "2          ID9pRmM\n",
              "3          IDHaQaj\n",
              "4          IDT2CrF\n",
              "5          IDFZS6l\n",
              "6          IDecQv2\n",
              "7          IDR9hAD\n",
              "8          IDzZxxC\n",
              "9          IDqvysv\n",
              "10         ID0glaO\n",
              "11         IDtcynu\n",
              "12         IDFL25i\n",
              "13         IDOrk16\n",
              "14         ID9eJOm\n",
              "15         ID4jcOk\n",
              "16         IDUymsI\n",
              "17         ID6pV5P\n",
              "18         IDIeWTY\n",
              "19         IDXEp3L\n",
              "20         IDAARYP\n",
              "21         IDCCqj3\n",
              "22         IDMscJr\n",
              "23         IDu8nxQ\n",
              "24         IDzYpBs\n",
              "25         IDh6KmC\n",
              "26         IDYf7g8\n",
              "27         IDhj7ih\n",
              "28         IDB0Gwa\n",
              "29         IDJ5x0d\n",
              "            ...   \n",
              "3706877    IDwFXmy\n",
              "3706878    IDZlb65\n",
              "3706879    IDbO1UK\n",
              "3706880    ID9mn3P\n",
              "3706881    IDlqTi0\n",
              "3706882    IDHV5yL\n",
              "3706883    IDClkHg\n",
              "3706884    IDUHUbN\n",
              "3706885    IDMUEyf\n",
              "3706886    ID6MyBX\n",
              "3706887    IDIn5b1\n",
              "3706888    IDRGWT3\n",
              "3706889    IDJ3KxL\n",
              "3706890    IDA9x1v\n",
              "3706891    IDwRynQ\n",
              "3706892    IDNoFpa\n",
              "3706893    IDk4Vtd\n",
              "3706894    ID3oTzG\n",
              "3706895    IDWCP6x\n",
              "3706896    IDfBGIy\n",
              "3706897    IDd2cde\n",
              "3706898    IDR6rCP\n",
              "3706899    IDkQL5G\n",
              "3706900    IDuJvaO\n",
              "3706901    IDPABVQ\n",
              "3706902    IDboA6b\n",
              "3706903    IDpHDPM\n",
              "3706904    IDAISNl\n",
              "3706905    ID3k389\n",
              "3706906    IDjioLR\n",
              "Name: ID, Length: 3706907, dtype: object"
            ]
          },
          "metadata": {
            "tags": []
          },
          "execution_count": 50
        }
      ]
    },
    {
      "metadata": {
        "id": "qf2eyU2lt07c",
        "colab_type": "code",
        "colab": {
          "base_uri": "https://localhost:8080/",
          "height": 327
        },
        "outputId": "3485c8ac-a14e-4cae-a8e4-684004a5d6aa"
      },
      "cell_type": "code",
      "source": [
        "sns.heatmap(data.isnull(),yticklabels=False,cbar=False,cmap='viridis')\n"
      ],
      "execution_count": 127,
      "outputs": [
        {
          "output_type": "execute_result",
          "data": {
            "text/plain": [
              "<matplotlib.axes._subplots.AxesSubplot at 0x7f5775e5db38>"
            ]
          },
          "metadata": {
            "tags": []
          },
          "execution_count": 127
        },
        {
          "output_type": "display_data",
          "data": {
            "image/png": "[encoded data removed]",
            "text/plain": [
              "<matplotlib.figure.Figure at 0x7f575e3f0e48>"
            ]
          },
          "metadata": {
            "tags": []
          }
        }
      ]
    },
    {
      "metadata": {
        "id": "TwdX0szpc1sD",
        "colab_type": "code",
        "colab": {
          "base_uri": "https://localhost:8080/",
          "height": 975
        },
        "outputId": "d008a68b-17db-4212-bad9-532d6ac8bcf6"
      },
      "cell_type": "code",
      "source": [
        "sns.distplot(data['click'],bins=30,kde=False)"
      ],
      "execution_count": 128,
      "outputs": [
        {
          "output_type": "stream",
          "text": [
            "/usr/local/lib/python3.6/dist-packages/numpy/core/_methods.py:29: RuntimeWarning: invalid value encountered in reduce\n",
            "  return umr_minimum(a, axis, None, out, keepdims)\n",
            "/usr/local/lib/python3.6/dist-packages/numpy/core/_methods.py:26: RuntimeWarning: invalid value encountered in reduce\n",
            "  return umr_maximum(a, axis, None, out, keepdims)\n"
          ],
          "name": "stderr"
        },
        {
          "output_type": "error",
          "ename": "ValueError",
          "evalue": "ignored",
          "traceback": [
            "\u001b[0;31m---------------------------------------------------------------------------\u001b[0m",
            "\u001b[0;31mValueError\u001b[0m                                Traceback (most recent call last)",
            "\u001b[0;32m<ipython-input-128-3f65f4409b06>\u001b[0m in \u001b[0;36m<module>\u001b[0;34m()\u001b[0m\n\u001b[0;32m----> 1\u001b[0;31m \u001b[0msns\u001b[0m\u001b[0;34m.\u001b[0m\u001b[0mdistplot\u001b[0m\u001b[0;34m(\u001b[0m\u001b[0mdata\u001b[0m\u001b[0;34m[\u001b[0m\u001b[0;34m'click'\u001b[0m\u001b[0;34m]\u001b[0m\u001b[0;34m,\u001b[0m\u001b[0mbins\u001b[0m\u001b[0;34m=\u001b[0m\u001b[0;36m30\u001b[0m\u001b[0;34m,\u001b[0m\u001b[0mkde\u001b[0m\u001b[0;34m=\u001b[0m\u001b[0;32mFalse\u001b[0m\u001b[0;34m)\u001b[0m\u001b[0;34m\u001b[0m\u001b[0m\n\u001b[0m",
            "\u001b[0;32m/usr/local/lib/python3.6/dist-packages/seaborn/distributions.py\u001b[0m in \u001b[0;36mdistplot\u001b[0;34m(a, bins, hist, kde, rug, fit, hist_kws, kde_kws, rug_kws, fit_kws, color, vertical, norm_hist, axlabel, label, ax)\u001b[0m\n\u001b[1;32m    213\u001b[0m         \u001b[0mhist_color\u001b[0m \u001b[0;34m=\u001b[0m \u001b[0mhist_kws\u001b[0m\u001b[0;34m.\u001b[0m\u001b[0mpop\u001b[0m\u001b[0;34m(\u001b[0m\u001b[0;34m\"color\"\u001b[0m\u001b[0;34m,\u001b[0m \u001b[0mcolor\u001b[0m\u001b[0;34m)\u001b[0m\u001b[0;34m\u001b[0m\u001b[0m\n\u001b[1;32m    214\u001b[0m         ax.hist(a, bins, orientation=orientation,\n\u001b[0;32m--> 215\u001b[0;31m                 color=hist_color, **hist_kws)\n\u001b[0m\u001b[1;32m    216\u001b[0m         \u001b[0;32mif\u001b[0m \u001b[0mhist_color\u001b[0m \u001b[0;34m!=\u001b[0m \u001b[0mcolor\u001b[0m\u001b[0;34m:\u001b[0m\u001b[0;34m\u001b[0m\u001b[0m\n\u001b[1;32m    217\u001b[0m             \u001b[0mhist_kws\u001b[0m\u001b[0;34m[\u001b[0m\u001b[0;34m\"color\"\u001b[0m\u001b[0;34m]\u001b[0m \u001b[0;34m=\u001b[0m \u001b[0mhist_color\u001b[0m\u001b[0;34m\u001b[0m\u001b[0m\n",
            "\u001b[0;32m/usr/local/lib/python3.6/dist-packages/matplotlib/__init__.py\u001b[0m in \u001b[0;36minner\u001b[0;34m(ax, *args, **kwargs)\u001b[0m\n\u001b[1;32m   1715\u001b[0m                     warnings.warn(msg % (label_namer, func.__name__),\n\u001b[1;32m   1716\u001b[0m                                   RuntimeWarning, stacklevel=2)\n\u001b[0;32m-> 1717\u001b[0;31m             \u001b[0;32mreturn\u001b[0m \u001b[0mfunc\u001b[0m\u001b[0;34m(\u001b[0m\u001b[0max\u001b[0m\u001b[0;34m,\u001b[0m \u001b[0;34m*\u001b[0m\u001b[0margs\u001b[0m\u001b[0;34m,\u001b[0m \u001b[0;34m**\u001b[0m\u001b[0mkwargs\u001b[0m\u001b[0;34m)\u001b[0m\u001b[0;34m\u001b[0m\u001b[0m\n\u001b[0m\u001b[1;32m   1718\u001b[0m         \u001b[0mpre_doc\u001b[0m \u001b[0;34m=\u001b[0m \u001b[0minner\u001b[0m\u001b[0;34m.\u001b[0m\u001b[0m__doc__\u001b[0m\u001b[0;34m\u001b[0m\u001b[0m\n\u001b[1;32m   1719\u001b[0m         \u001b[0;32mif\u001b[0m \u001b[0mpre_doc\u001b[0m \u001b[0;32mis\u001b[0m \u001b[0;32mNone\u001b[0m\u001b[0;34m:\u001b[0m\u001b[0;34m\u001b[0m\u001b[0m\n",
            "\u001b[0;32m/usr/local/lib/python3.6/dist-packages/matplotlib/axes/_axes.py\u001b[0m in \u001b[0;36mhist\u001b[0;34m(***failed resolving arguments***)\u001b[0m\n\u001b[1;32m   6163\u001b[0m             \u001b[0;31m# this will automatically overwrite bins,\u001b[0m\u001b[0;34m\u001b[0m\u001b[0;34m\u001b[0m\u001b[0m\n\u001b[1;32m   6164\u001b[0m             \u001b[0;31m# so that each histogram uses the same bins\u001b[0m\u001b[0;34m\u001b[0m\u001b[0;34m\u001b[0m\u001b[0m\n\u001b[0;32m-> 6165\u001b[0;31m             \u001b[0mm\u001b[0m\u001b[0;34m,\u001b[0m \u001b[0mbins\u001b[0m \u001b[0;34m=\u001b[0m \u001b[0mnp\u001b[0m\u001b[0;34m.\u001b[0m\u001b[0mhistogram\u001b[0m\u001b[0;34m(\u001b[0m\u001b[0mx\u001b[0m\u001b[0;34m[\u001b[0m\u001b[0mi\u001b[0m\u001b[0;34m]\u001b[0m\u001b[0;34m,\u001b[0m \u001b[0mbins\u001b[0m\u001b[0;34m,\u001b[0m \u001b[0mweights\u001b[0m\u001b[0;34m=\u001b[0m\u001b[0mw\u001b[0m\u001b[0;34m[\u001b[0m\u001b[0mi\u001b[0m\u001b[0;34m]\u001b[0m\u001b[0;34m,\u001b[0m \u001b[0;34m**\u001b[0m\u001b[0mhist_kwargs\u001b[0m\u001b[0;34m)\u001b[0m\u001b[0;34m\u001b[0m\u001b[0m\n\u001b[0m\u001b[1;32m   6166\u001b[0m             \u001b[0mm\u001b[0m \u001b[0;34m=\u001b[0m \u001b[0mm\u001b[0m\u001b[0;34m.\u001b[0m\u001b[0mastype\u001b[0m\u001b[0;34m(\u001b[0m\u001b[0mfloat\u001b[0m\u001b[0;34m)\u001b[0m  \u001b[0;31m# causes problems later if it's an int\u001b[0m\u001b[0;34m\u001b[0m\u001b[0m\n\u001b[1;32m   6167\u001b[0m             \u001b[0;32mif\u001b[0m \u001b[0mmlast\u001b[0m \u001b[0;32mis\u001b[0m \u001b[0;32mNone\u001b[0m\u001b[0;34m:\u001b[0m\u001b[0;34m\u001b[0m\u001b[0m\n",
            "\u001b[0;32m/usr/local/lib/python3.6/dist-packages/numpy/lib/function_base.py\u001b[0m in \u001b[0;36mhistogram\u001b[0;34m(a, bins, range, normed, weights, density)\u001b[0m\n\u001b[1;32m    665\u001b[0m     \u001b[0;32mif\u001b[0m \u001b[0mfirst_edge\u001b[0m \u001b[0;34m>\u001b[0m \u001b[0mlast_edge\u001b[0m\u001b[0;34m:\u001b[0m\u001b[0;34m\u001b[0m\u001b[0m\n\u001b[1;32m    666\u001b[0m         raise ValueError(\n\u001b[0;32m--> 667\u001b[0;31m             'max must be larger than min in range parameter.')\n\u001b[0m\u001b[1;32m    668\u001b[0m     \u001b[0;32mif\u001b[0m \u001b[0;32mnot\u001b[0m \u001b[0mnp\u001b[0m\u001b[0;34m.\u001b[0m\u001b[0mall\u001b[0m\u001b[0;34m(\u001b[0m\u001b[0mnp\u001b[0m\u001b[0;34m.\u001b[0m\u001b[0misfinite\u001b[0m\u001b[0;34m(\u001b[0m\u001b[0;34m[\u001b[0m\u001b[0mfirst_edge\u001b[0m\u001b[0;34m,\u001b[0m \u001b[0mlast_edge\u001b[0m\u001b[0;34m]\u001b[0m\u001b[0;34m)\u001b[0m\u001b[0;34m)\u001b[0m\u001b[0;34m:\u001b[0m\u001b[0;34m\u001b[0m\u001b[0m\n\u001b[1;32m    669\u001b[0m         raise ValueError(\n",
            "\u001b[0;31mValueError\u001b[0m: max must be larger than min in range parameter."
          ]
        },
        {
          "output_type": "display_data",
          "data": {
            "image/png": "[encoded data removed]",
            "text/plain": [
              "<matplotlib.figure.Figure at 0x7f575e3512e8>"
            ]
          },
          "metadata": {
            "tags": []
          }
        }
      ]
    },
    {
      "metadata": {
        "id": "CFhZykFWdGVR",
        "colab_type": "code",
        "colab": {
          "base_uri": "https://localhost:8080/",
          "height": 350
        },
        "outputId": "da1607d5-2b39-4811-863f-39ed17fd9c47"
      },
      "cell_type": "code",
      "source": [
        "sns.boxplot(data=data,x='click')"
      ],
      "execution_count": 99,
      "outputs": [
        {
          "output_type": "stream",
          "text": [
            "/usr/local/lib/python3.6/dist-packages/seaborn/categorical.py:454: FutureWarning: remove_na is deprecated and is a private function. Do not use.\n",
            "  box_data = remove_na(group_data)\n"
          ],
          "name": "stderr"
        },
        {
          "output_type": "execute_result",
          "data": {
            "text/plain": [
              "<matplotlib.axes._subplots.AxesSubplot at 0x7f5775f966a0>"
            ]
          },
          "metadata": {
            "tags": []
          },
          "execution_count": 99
        },
        {
          "output_type": "display_data",
          "data": {
            "image/png": "[encoded data removed]",
            "text/plain": [
              "<matplotlib.figure.Figure at 0x7f5775f8ba58>"
            ]
          },
          "metadata": {
            "tags": []
          }
        }
      ]
    },
    {
      "metadata": {
        "id": "9U138oqSdvYy",
        "colab_type": "code",
        "colab": {
          "base_uri": "https://localhost:8080/",
          "height": 2037
        },
        "outputId": "89d0b454-c29c-4f6b-d86b-f63ae56de878"
      },
      "cell_type": "code",
      "source": [
        "sns.pairplot(data)"
      ],
      "execution_count": 100,
      "outputs": [
        {
          "output_type": "stream",
          "text": [
            "/usr/local/lib/python3.6/dist-packages/numpy/core/_methods.py:29: RuntimeWarning: invalid value encountered in reduce\n",
            "  return umr_minimum(a, axis, None, out, keepdims)\n",
            "/usr/local/lib/python3.6/dist-packages/numpy/core/_methods.py:26: RuntimeWarning: invalid value encountered in reduce\n",
            "  return umr_maximum(a, axis, None, out, keepdims)\n"
          ],
          "name": "stderr"
        },
        {
          "output_type": "error",
          "ename": "ValueError",
          "evalue": "ignored",
          "traceback": [
            "\u001b[0;31m---------------------------------------------------------------------------\u001b[0m",
            "\u001b[0;31mValueError\u001b[0m                                Traceback (most recent call last)",
            "\u001b[0;32m<ipython-input-100-9f33636b51d6>\u001b[0m in \u001b[0;36m<module>\u001b[0;34m()\u001b[0m\n\u001b[0;32m----> 1\u001b[0;31m \u001b[0msns\u001b[0m\u001b[0;34m.\u001b[0m\u001b[0mpairplot\u001b[0m\u001b[0;34m(\u001b[0m\u001b[0mdata\u001b[0m\u001b[0;34m)\u001b[0m\u001b[0;34m\u001b[0m\u001b[0m\n\u001b[0m",
            "\u001b[0;32m/usr/local/lib/python3.6/dist-packages/seaborn/linearmodels.py\u001b[0m in \u001b[0;36mpairplot\u001b[0;34m(data, hue, hue_order, palette, vars, x_vars, y_vars, kind, diag_kind, markers, size, aspect, dropna, plot_kws, diag_kws, grid_kws)\u001b[0m\n\u001b[1;32m   1607\u001b[0m     \u001b[0;32mif\u001b[0m \u001b[0mgrid\u001b[0m\u001b[0;34m.\u001b[0m\u001b[0msquare_grid\u001b[0m\u001b[0;34m:\u001b[0m\u001b[0;34m\u001b[0m\u001b[0m\n\u001b[1;32m   1608\u001b[0m         \u001b[0;32mif\u001b[0m \u001b[0mdiag_kind\u001b[0m \u001b[0;34m==\u001b[0m \u001b[0;34m\"hist\"\u001b[0m\u001b[0;34m:\u001b[0m\u001b[0;34m\u001b[0m\u001b[0m\n\u001b[0;32m-> 1609\u001b[0;31m             \u001b[0mgrid\u001b[0m\u001b[0;34m.\u001b[0m\u001b[0mmap_diag\u001b[0m\u001b[0;34m(\u001b[0m\u001b[0mplt\u001b[0m\u001b[0;34m.\u001b[0m\u001b[0mhist\u001b[0m\u001b[0;34m,\u001b[0m \u001b[0;34m**\u001b[0m\u001b[0mdiag_kws\u001b[0m\u001b[0;34m)\u001b[0m\u001b[0;34m\u001b[0m\u001b[0m\n\u001b[0m\u001b[1;32m   1610\u001b[0m         \u001b[0;32melif\u001b[0m \u001b[0mdiag_kind\u001b[0m \u001b[0;34m==\u001b[0m \u001b[0;34m\"kde\"\u001b[0m\u001b[0;34m:\u001b[0m\u001b[0;34m\u001b[0m\u001b[0m\n\u001b[1;32m   1611\u001b[0m             \u001b[0mdiag_kws\u001b[0m\u001b[0;34m[\u001b[0m\u001b[0;34m\"legend\"\u001b[0m\u001b[0;34m]\u001b[0m \u001b[0;34m=\u001b[0m \u001b[0;32mFalse\u001b[0m\u001b[0;34m\u001b[0m\u001b[0m\n",
            "\u001b[0;32m/usr/local/lib/python3.6/dist-packages/seaborn/axisgrid.py\u001b[0m in \u001b[0;36mmap_diag\u001b[0;34m(self, func, **kwargs)\u001b[0m\n\u001b[1;32m   1346\u001b[0m                 \u001b[0;32melse\u001b[0m\u001b[0;34m:\u001b[0m\u001b[0;34m\u001b[0m\u001b[0m\n\u001b[1;32m   1347\u001b[0m                     func(vals, color=self.palette, histtype=\"barstacked\",\n\u001b[0;32m-> 1348\u001b[0;31m                          **kwargs)\n\u001b[0m\u001b[1;32m   1349\u001b[0m             \u001b[0;32melse\u001b[0m\u001b[0;34m:\u001b[0m\u001b[0;34m\u001b[0m\u001b[0m\n\u001b[1;32m   1350\u001b[0m                 \u001b[0;32mfor\u001b[0m \u001b[0mk\u001b[0m\u001b[0;34m,\u001b[0m \u001b[0mlabel_k\u001b[0m \u001b[0;32min\u001b[0m \u001b[0menumerate\u001b[0m\u001b[0;34m(\u001b[0m\u001b[0mself\u001b[0m\u001b[0;34m.\u001b[0m\u001b[0mhue_names\u001b[0m\u001b[0;34m)\u001b[0m\u001b[0;34m:\u001b[0m\u001b[0;34m\u001b[0m\u001b[0m\n",
            "\u001b[0;32m/usr/local/lib/python3.6/dist-packages/matplotlib/pyplot.py\u001b[0m in \u001b[0;36mhist\u001b[0;34m(x, bins, range, density, weights, cumulative, bottom, histtype, align, orientation, rwidth, log, color, label, stacked, normed, hold, data, **kwargs)\u001b[0m\n\u001b[1;32m   3023\u001b[0m                       \u001b[0mhisttype\u001b[0m\u001b[0;34m=\u001b[0m\u001b[0mhisttype\u001b[0m\u001b[0;34m,\u001b[0m \u001b[0malign\u001b[0m\u001b[0;34m=\u001b[0m\u001b[0malign\u001b[0m\u001b[0;34m,\u001b[0m \u001b[0morientation\u001b[0m\u001b[0;34m=\u001b[0m\u001b[0morientation\u001b[0m\u001b[0;34m,\u001b[0m\u001b[0;34m\u001b[0m\u001b[0m\n\u001b[1;32m   3024\u001b[0m                       \u001b[0mrwidth\u001b[0m\u001b[0;34m=\u001b[0m\u001b[0mrwidth\u001b[0m\u001b[0;34m,\u001b[0m \u001b[0mlog\u001b[0m\u001b[0;34m=\u001b[0m\u001b[0mlog\u001b[0m\u001b[0;34m,\u001b[0m \u001b[0mcolor\u001b[0m\u001b[0;34m=\u001b[0m\u001b[0mcolor\u001b[0m\u001b[0;34m,\u001b[0m \u001b[0mlabel\u001b[0m\u001b[0;34m=\u001b[0m\u001b[0mlabel\u001b[0m\u001b[0;34m,\u001b[0m\u001b[0;34m\u001b[0m\u001b[0m\n\u001b[0;32m-> 3025\u001b[0;31m                       stacked=stacked, normed=normed, data=data, **kwargs)\n\u001b[0m\u001b[1;32m   3026\u001b[0m     \u001b[0;32mfinally\u001b[0m\u001b[0;34m:\u001b[0m\u001b[0;34m\u001b[0m\u001b[0m\n\u001b[1;32m   3027\u001b[0m         \u001b[0max\u001b[0m\u001b[0;34m.\u001b[0m\u001b[0m_hold\u001b[0m \u001b[0;34m=\u001b[0m \u001b[0mwashold\u001b[0m\u001b[0;34m\u001b[0m\u001b[0m\n",
            "\u001b[0;32m/usr/local/lib/python3.6/dist-packages/matplotlib/__init__.py\u001b[0m in \u001b[0;36minner\u001b[0;34m(ax, *args, **kwargs)\u001b[0m\n\u001b[1;32m   1715\u001b[0m                     warnings.warn(msg % (label_namer, func.__name__),\n\u001b[1;32m   1716\u001b[0m                                   RuntimeWarning, stacklevel=2)\n\u001b[0;32m-> 1717\u001b[0;31m             \u001b[0;32mreturn\u001b[0m \u001b[0mfunc\u001b[0m\u001b[0;34m(\u001b[0m\u001b[0max\u001b[0m\u001b[0;34m,\u001b[0m \u001b[0;34m*\u001b[0m\u001b[0margs\u001b[0m\u001b[0;34m,\u001b[0m \u001b[0;34m**\u001b[0m\u001b[0mkwargs\u001b[0m\u001b[0;34m)\u001b[0m\u001b[0;34m\u001b[0m\u001b[0m\n\u001b[0m\u001b[1;32m   1718\u001b[0m         \u001b[0mpre_doc\u001b[0m \u001b[0;34m=\u001b[0m \u001b[0minner\u001b[0m\u001b[0;34m.\u001b[0m\u001b[0m__doc__\u001b[0m\u001b[0;34m\u001b[0m\u001b[0m\n\u001b[1;32m   1719\u001b[0m         \u001b[0;32mif\u001b[0m \u001b[0mpre_doc\u001b[0m \u001b[0;32mis\u001b[0m \u001b[0;32mNone\u001b[0m\u001b[0;34m:\u001b[0m\u001b[0;34m\u001b[0m\u001b[0m\n",
            "\u001b[0;32m/usr/local/lib/python3.6/dist-packages/matplotlib/axes/_axes.py\u001b[0m in \u001b[0;36mhist\u001b[0;34m(***failed resolving arguments***)\u001b[0m\n\u001b[1;32m   6163\u001b[0m             \u001b[0;31m# this will automatically overwrite bins,\u001b[0m\u001b[0;34m\u001b[0m\u001b[0;34m\u001b[0m\u001b[0m\n\u001b[1;32m   6164\u001b[0m             \u001b[0;31m# so that each histogram uses the same bins\u001b[0m\u001b[0;34m\u001b[0m\u001b[0;34m\u001b[0m\u001b[0m\n\u001b[0;32m-> 6165\u001b[0;31m             \u001b[0mm\u001b[0m\u001b[0;34m,\u001b[0m \u001b[0mbins\u001b[0m \u001b[0;34m=\u001b[0m \u001b[0mnp\u001b[0m\u001b[0;34m.\u001b[0m\u001b[0mhistogram\u001b[0m\u001b[0;34m(\u001b[0m\u001b[0mx\u001b[0m\u001b[0;34m[\u001b[0m\u001b[0mi\u001b[0m\u001b[0;34m]\u001b[0m\u001b[0;34m,\u001b[0m \u001b[0mbins\u001b[0m\u001b[0;34m,\u001b[0m \u001b[0mweights\u001b[0m\u001b[0;34m=\u001b[0m\u001b[0mw\u001b[0m\u001b[0;34m[\u001b[0m\u001b[0mi\u001b[0m\u001b[0;34m]\u001b[0m\u001b[0;34m,\u001b[0m \u001b[0;34m**\u001b[0m\u001b[0mhist_kwargs\u001b[0m\u001b[0;34m)\u001b[0m\u001b[0;34m\u001b[0m\u001b[0m\n\u001b[0m\u001b[1;32m   6166\u001b[0m             \u001b[0mm\u001b[0m \u001b[0;34m=\u001b[0m \u001b[0mm\u001b[0m\u001b[0;34m.\u001b[0m\u001b[0mastype\u001b[0m\u001b[0;34m(\u001b[0m\u001b[0mfloat\u001b[0m\u001b[0;34m)\u001b[0m  \u001b[0;31m# causes problems later if it's an int\u001b[0m\u001b[0;34m\u001b[0m\u001b[0m\n\u001b[1;32m   6167\u001b[0m             \u001b[0;32mif\u001b[0m \u001b[0mmlast\u001b[0m \u001b[0;32mis\u001b[0m \u001b[0;32mNone\u001b[0m\u001b[0;34m:\u001b[0m\u001b[0;34m\u001b[0m\u001b[0m\n",
            "\u001b[0;32m/usr/local/lib/python3.6/dist-packages/numpy/lib/function_base.py\u001b[0m in \u001b[0;36mhistogram\u001b[0;34m(a, bins, range, normed, weights, density)\u001b[0m\n\u001b[1;32m    665\u001b[0m     \u001b[0;32mif\u001b[0m \u001b[0mfirst_edge\u001b[0m \u001b[0;34m>\u001b[0m \u001b[0mlast_edge\u001b[0m\u001b[0;34m:\u001b[0m\u001b[0;34m\u001b[0m\u001b[0m\n\u001b[1;32m    666\u001b[0m         raise ValueError(\n\u001b[0;32m--> 667\u001b[0;31m             'max must be larger than min in range parameter.')\n\u001b[0m\u001b[1;32m    668\u001b[0m     \u001b[0;32mif\u001b[0m \u001b[0;32mnot\u001b[0m \u001b[0mnp\u001b[0m\u001b[0;34m.\u001b[0m\u001b[0mall\u001b[0m\u001b[0;34m(\u001b[0m\u001b[0mnp\u001b[0m\u001b[0;34m.\u001b[0m\u001b[0misfinite\u001b[0m\u001b[0;34m(\u001b[0m\u001b[0;34m[\u001b[0m\u001b[0mfirst_edge\u001b[0m\u001b[0;34m,\u001b[0m \u001b[0mlast_edge\u001b[0m\u001b[0;34m]\u001b[0m\u001b[0;34m)\u001b[0m\u001b[0;34m)\u001b[0m\u001b[0;34m:\u001b[0m\u001b[0;34m\u001b[0m\u001b[0m\n\u001b[1;32m    669\u001b[0m         raise ValueError(\n",
            "\u001b[0;31mValueError\u001b[0m: max must be larger than min in range parameter."
          ]
        },
        {
          "output_type": "display_data",
          "data": {
            "image/png": "[encoded data removed]",
            "text/plain": [
              "<matplotlib.figure.Figure at 0x7f5775f9d208>"
            ]
          },
          "metadata": {
            "tags": []
          }
        }
      ]
    },
    {
      "metadata": {
        "id": "Ph0ccc4EeU8P",
        "colab_type": "code",
        "colab": {}
      },
      "cell_type": "code",
      "source": [
        "#sns.heatmap(data.isnull(),yticklabels=False,cbar=False,cmap='viridis')"
      ],
      "execution_count": 0,
      "outputs": []
    },
    {
      "metadata": {
        "id": "rxBhcHjxetZb",
        "colab_type": "code",
        "colab": {
          "base_uri": "https://localhost:8080/",
          "height": 282
        },
        "outputId": "dc33e068-97e6-4386-8ccc-44799d69cdde"
      },
      "cell_type": "code",
      "source": [
        "sns.heatmap(data.corr())"
      ],
      "execution_count": 146,
      "outputs": [
        {
          "output_type": "execute_result",
          "data": {
            "text/plain": [
              "<matplotlib.axes._subplots.AxesSubplot at 0x7f575e2a5518>"
            ]
          },
          "metadata": {
            "tags": []
          },
          "execution_count": 146
        },
        {
          "output_type": "display_data",
          "data": {
            "image/png": "[encoded data removed]",
            "text/plain": [
              "<matplotlib.figure.Figure at 0x7f575e2f6fd0>"
            ]
          },
          "metadata": {
            "tags": []
          }
        }
      ]
    },
    {
      "metadata": {
        "id": "B17U8Pr5w8-G",
        "colab_type": "text"
      },
      "cell_type": "markdown",
      "source": [
        "CREATING TRAIN TEST SPLIT"
      ]
    },
    {
      "metadata": {
        "id": "XSYJAJLywpPO",
        "colab_type": "text"
      },
      "cell_type": "markdown",
      "source": [
        "**bold text**"
      ]
    },
    {
      "metadata": {
        "id": "ykO5q6vIxE09",
        "colab_type": "code",
        "colab": {}
      },
      "cell_type": "code",
      "source": [
        "X = data[['siteid','offerid','category','merchant']]\n",
        "y = data[['click']]\n",
        "test = test[['siteid','offerid','category','merchant']]"
      ],
      "execution_count": 0,
      "outputs": []
    },
    {
      "metadata": {
        "id": "CG2EGh7L8EH-",
        "colab_type": "code",
        "colab": {
          "base_uri": "https://localhost:8080/",
          "height": 1992
        },
        "outputId": "97fed1a8-5a4e-43dd-84fb-690381fd53b6"
      },
      "cell_type": "code",
      "source": [
        "X"
      ],
      "execution_count": 52,
      "outputs": [
        {
          "output_type": "execute_result",
          "data": {
            "text/html": [
              "<div>\n",
              "<style scoped>\n",
              "    .dataframe tbody tr th:only-of-type {\n",
              "        vertical-align: middle;\n",
              "    }\n",
              "\n",
              "    .dataframe tbody tr th {\n",
              "        vertical-align: top;\n",
              "    }\n",
              "\n",
              "    .dataframe thead th {\n",
              "        text-align: right;\n",
              "    }\n",
              "</style>\n",
              "<table border=\"1\" class=\"dataframe\">\n",
              "  <thead>\n",
              "    <tr style=\"text-align: right;\">\n",
              "      <th></th>\n",
              "      <th>siteid</th>\n",
              "      <th>offerid</th>\n",
              "      <th>category</th>\n",
              "      <th>merchant</th>\n",
              "    </tr>\n",
              "  </thead>\n",
              "  <tbody>\n",
              "    <tr>\n",
              "      <th>0</th>\n",
              "      <td>4.709696e+06</td>\n",
              "      <td>887235</td>\n",
              "      <td>17714</td>\n",
              "      <td>20301556</td>\n",
              "    </tr>\n",
              "    <tr>\n",
              "      <th>1</th>\n",
              "      <td>5.189467e+06</td>\n",
              "      <td>178235</td>\n",
              "      <td>21407</td>\n",
              "      <td>9434818</td>\n",
              "    </tr>\n",
              "    <tr>\n",
              "      <th>2</th>\n",
              "      <td>9.848000e+04</td>\n",
              "      <td>518539</td>\n",
              "      <td>25085</td>\n",
              "      <td>2050923</td>\n",
              "    </tr>\n",
              "    <tr>\n",
              "      <th>3</th>\n",
              "      <td>8.896401e+06</td>\n",
              "      <td>390352</td>\n",
              "      <td>40339</td>\n",
              "      <td>72089744</td>\n",
              "    </tr>\n",
              "    <tr>\n",
              "      <th>4</th>\n",
              "      <td>5.635120e+06</td>\n",
              "      <td>472937</td>\n",
              "      <td>12052</td>\n",
              "      <td>39507200</td>\n",
              "    </tr>\n",
              "    <tr>\n",
              "      <th>5</th>\n",
              "      <td>2.729292e+06</td>\n",
              "      <td>961176</td>\n",
              "      <td>33638</td>\n",
              "      <td>47079934</td>\n",
              "    </tr>\n",
              "    <tr>\n",
              "      <th>6</th>\n",
              "      <td>7.007059e+06</td>\n",
              "      <td>664666</td>\n",
              "      <td>68847</td>\n",
              "      <td>58604466</td>\n",
              "    </tr>\n",
              "    <tr>\n",
              "      <th>7</th>\n",
              "      <td>7.295565e+06</td>\n",
              "      <td>144797</td>\n",
              "      <td>33638</td>\n",
              "      <td>23981625</td>\n",
              "    </tr>\n",
              "    <tr>\n",
              "      <th>8</th>\n",
              "      <td>2.116058e+06</td>\n",
              "      <td>376073</td>\n",
              "      <td>15912</td>\n",
              "      <td>30860214</td>\n",
              "    </tr>\n",
              "    <tr>\n",
              "      <th>9</th>\n",
              "      <td>5.329483e+06</td>\n",
              "      <td>952097</td>\n",
              "      <td>89680</td>\n",
              "      <td>74363610</td>\n",
              "    </tr>\n",
              "    <tr>\n",
              "      <th>10</th>\n",
              "      <td>6.436389e+06</td>\n",
              "      <td>949077</td>\n",
              "      <td>76239</td>\n",
              "      <td>65017662</td>\n",
              "    </tr>\n",
              "    <tr>\n",
              "      <th>11</th>\n",
              "      <td>6.401189e+06</td>\n",
              "      <td>68770</td>\n",
              "      <td>43612</td>\n",
              "      <td>74868704</td>\n",
              "    </tr>\n",
              "    <tr>\n",
              "      <th>12</th>\n",
              "      <td>6.139730e+06</td>\n",
              "      <td>781977</td>\n",
              "      <td>97863</td>\n",
              "      <td>56008048</td>\n",
              "    </tr>\n",
              "    <tr>\n",
              "      <th>13</th>\n",
              "      <td>6.718234e+06</td>\n",
              "      <td>433512</td>\n",
              "      <td>43612</td>\n",
              "      <td>57517812</td>\n",
              "    </tr>\n",
              "    <tr>\n",
              "      <th>14</th>\n",
              "      <td>2.797042e+06</td>\n",
              "      <td>901997</td>\n",
              "      <td>17714</td>\n",
              "      <td>26391770</td>\n",
              "    </tr>\n",
              "    <tr>\n",
              "      <th>15</th>\n",
              "      <td>6.313991e+06</td>\n",
              "      <td>31957</td>\n",
              "      <td>71642</td>\n",
              "      <td>27723861</td>\n",
              "    </tr>\n",
              "    <tr>\n",
              "      <th>16</th>\n",
              "      <td>4.696030e+05</td>\n",
              "      <td>385750</td>\n",
              "      <td>93286</td>\n",
              "      <td>7122654</td>\n",
              "    </tr>\n",
              "    <tr>\n",
              "      <th>17</th>\n",
              "      <td>4.260541e+06</td>\n",
              "      <td>301045</td>\n",
              "      <td>17714</td>\n",
              "      <td>26391770</td>\n",
              "    </tr>\n",
              "    <tr>\n",
              "      <th>18</th>\n",
              "      <td>7.444049e+06</td>\n",
              "      <td>493707</td>\n",
              "      <td>12211</td>\n",
              "      <td>58163546</td>\n",
              "    </tr>\n",
              "    <tr>\n",
              "      <th>19</th>\n",
              "      <td>2.912790e+05</td>\n",
              "      <td>640355</td>\n",
              "      <td>41706</td>\n",
              "      <td>4000296</td>\n",
              "    </tr>\n",
              "    <tr>\n",
              "      <th>20</th>\n",
              "      <td>4.865000e+04</td>\n",
              "      <td>746289</td>\n",
              "      <td>81229</td>\n",
              "      <td>35819606</td>\n",
              "    </tr>\n",
              "    <tr>\n",
              "      <th>21</th>\n",
              "      <td>7.147868e+06</td>\n",
              "      <td>843837</td>\n",
              "      <td>904</td>\n",
              "      <td>2050923</td>\n",
              "    </tr>\n",
              "    <tr>\n",
              "      <th>22</th>\n",
              "      <td>6.510239e+06</td>\n",
              "      <td>437670</td>\n",
              "      <td>34670</td>\n",
              "      <td>78365183</td>\n",
              "    </tr>\n",
              "    <tr>\n",
              "      <th>23</th>\n",
              "      <td>3.723198e+06</td>\n",
              "      <td>539380</td>\n",
              "      <td>10345</td>\n",
              "      <td>33683592</td>\n",
              "    </tr>\n",
              "    <tr>\n",
              "      <th>24</th>\n",
              "      <td>8.538828e+06</td>\n",
              "      <td>771257</td>\n",
              "      <td>73248</td>\n",
              "      <td>57777528</td>\n",
              "    </tr>\n",
              "    <tr>\n",
              "      <th>25</th>\n",
              "      <td>5.914861e+06</td>\n",
              "      <td>512213</td>\n",
              "      <td>42227</td>\n",
              "      <td>95013373</td>\n",
              "    </tr>\n",
              "    <tr>\n",
              "      <th>26</th>\n",
              "      <td>3.230001e+06</td>\n",
              "      <td>681102</td>\n",
              "      <td>96184</td>\n",
              "      <td>93157824</td>\n",
              "    </tr>\n",
              "    <tr>\n",
              "      <th>27</th>\n",
              "      <td>8.672716e+06</td>\n",
              "      <td>287296</td>\n",
              "      <td>79668</td>\n",
              "      <td>81758577</td>\n",
              "    </tr>\n",
              "    <tr>\n",
              "      <th>28</th>\n",
              "      <td>4.989750e+06</td>\n",
              "      <td>461432</td>\n",
              "      <td>73248</td>\n",
              "      <td>83960204</td>\n",
              "    </tr>\n",
              "    <tr>\n",
              "      <th>29</th>\n",
              "      <td>8.022638e+06</td>\n",
              "      <td>416718</td>\n",
              "      <td>64452</td>\n",
              "      <td>65017662</td>\n",
              "    </tr>\n",
              "    <tr>\n",
              "      <th>...</th>\n",
              "      <td>...</td>\n",
              "      <td>...</td>\n",
              "      <td>...</td>\n",
              "      <td>...</td>\n",
              "    </tr>\n",
              "    <tr>\n",
              "      <th>12137780</th>\n",
              "      <td>4.073238e+06</td>\n",
              "      <td>464102</td>\n",
              "      <td>21407</td>\n",
              "      <td>43179292</td>\n",
              "    </tr>\n",
              "    <tr>\n",
              "      <th>12137781</th>\n",
              "      <td>5.222940e+05</td>\n",
              "      <td>669706</td>\n",
              "      <td>35368</td>\n",
              "      <td>90093962</td>\n",
              "    </tr>\n",
              "    <tr>\n",
              "      <th>12137782</th>\n",
              "      <td>4.800985e+06</td>\n",
              "      <td>441368</td>\n",
              "      <td>54343</td>\n",
              "      <td>71193712</td>\n",
              "    </tr>\n",
              "    <tr>\n",
              "      <th>12137783</th>\n",
              "      <td>4.538931e+06</td>\n",
              "      <td>877067</td>\n",
              "      <td>45620</td>\n",
              "      <td>31388981</td>\n",
              "    </tr>\n",
              "    <tr>\n",
              "      <th>12137784</th>\n",
              "      <td>3.226512e+06</td>\n",
              "      <td>32183</td>\n",
              "      <td>40339</td>\n",
              "      <td>43452411</td>\n",
              "    </tr>\n",
              "    <tr>\n",
              "      <th>12137785</th>\n",
              "      <td>5.134739e+06</td>\n",
              "      <td>552966</td>\n",
              "      <td>96184</td>\n",
              "      <td>22050486</td>\n",
              "    </tr>\n",
              "    <tr>\n",
              "      <th>12137786</th>\n",
              "      <td>5.765313e+06</td>\n",
              "      <td>61740</td>\n",
              "      <td>93188</td>\n",
              "      <td>91553313</td>\n",
              "    </tr>\n",
              "    <tr>\n",
              "      <th>12137787</th>\n",
              "      <td>5.020883e+06</td>\n",
              "      <td>760911</td>\n",
              "      <td>46365</td>\n",
              "      <td>26391770</td>\n",
              "    </tr>\n",
              "    <tr>\n",
              "      <th>12137788</th>\n",
              "      <td>9.014985e+06</td>\n",
              "      <td>366800</td>\n",
              "      <td>17714</td>\n",
              "      <td>26391770</td>\n",
              "    </tr>\n",
              "    <tr>\n",
              "      <th>12137789</th>\n",
              "      <td>3.838729e+06</td>\n",
              "      <td>915326</td>\n",
              "      <td>49810</td>\n",
              "      <td>15961717</td>\n",
              "    </tr>\n",
              "    <tr>\n",
              "      <th>12137790</th>\n",
              "      <td>5.020883e+06</td>\n",
              "      <td>305821</td>\n",
              "      <td>34670</td>\n",
              "      <td>87807327</td>\n",
              "    </tr>\n",
              "    <tr>\n",
              "      <th>12137791</th>\n",
              "      <td>5.325283e+06</td>\n",
              "      <td>798546</td>\n",
              "      <td>6906</td>\n",
              "      <td>99510044</td>\n",
              "    </tr>\n",
              "    <tr>\n",
              "      <th>12137792</th>\n",
              "      <td>7.834055e+06</td>\n",
              "      <td>377612</td>\n",
              "      <td>96184</td>\n",
              "      <td>93157824</td>\n",
              "    </tr>\n",
              "    <tr>\n",
              "      <th>12137793</th>\n",
              "      <td>7.429107e+06</td>\n",
              "      <td>304728</td>\n",
              "      <td>40339</td>\n",
              "      <td>37135965</td>\n",
              "    </tr>\n",
              "    <tr>\n",
              "      <th>12137794</th>\n",
              "      <td>3.737860e+06</td>\n",
              "      <td>710003</td>\n",
              "      <td>60316</td>\n",
              "      <td>74868704</td>\n",
              "    </tr>\n",
              "    <tr>\n",
              "      <th>12137795</th>\n",
              "      <td>7.942356e+06</td>\n",
              "      <td>538799</td>\n",
              "      <td>42227</td>\n",
              "      <td>18243870</td>\n",
              "    </tr>\n",
              "    <tr>\n",
              "      <th>12137796</th>\n",
              "      <td>5.020883e+06</td>\n",
              "      <td>383962</td>\n",
              "      <td>34670</td>\n",
              "      <td>87807327</td>\n",
              "    </tr>\n",
              "    <tr>\n",
              "      <th>12137797</th>\n",
              "      <td>5.020883e+06</td>\n",
              "      <td>384099</td>\n",
              "      <td>10345</td>\n",
              "      <td>64511164</td>\n",
              "    </tr>\n",
              "    <tr>\n",
              "      <th>12137798</th>\n",
              "      <td>8.140575e+06</td>\n",
              "      <td>480796</td>\n",
              "      <td>33638</td>\n",
              "      <td>13789995</td>\n",
              "    </tr>\n",
              "    <tr>\n",
              "      <th>12137799</th>\n",
              "      <td>8.538828e+06</td>\n",
              "      <td>148635</td>\n",
              "      <td>25491</td>\n",
              "      <td>79474990</td>\n",
              "    </tr>\n",
              "    <tr>\n",
              "      <th>12137800</th>\n",
              "      <td>5.144783e+06</td>\n",
              "      <td>65165</td>\n",
              "      <td>17714</td>\n",
              "      <td>26391770</td>\n",
              "    </tr>\n",
              "    <tr>\n",
              "      <th>12137801</th>\n",
              "      <td>2.246326e+06</td>\n",
              "      <td>109612</td>\n",
              "      <td>40339</td>\n",
              "      <td>43452411</td>\n",
              "    </tr>\n",
              "    <tr>\n",
              "      <th>12137802</th>\n",
              "      <td>2.392070e+06</td>\n",
              "      <td>96840</td>\n",
              "      <td>17714</td>\n",
              "      <td>29916445</td>\n",
              "    </tr>\n",
              "    <tr>\n",
              "      <th>12137803</th>\n",
              "      <td>6.559619e+06</td>\n",
              "      <td>175801</td>\n",
              "      <td>61302</td>\n",
              "      <td>20301556</td>\n",
              "    </tr>\n",
              "    <tr>\n",
              "      <th>12137804</th>\n",
              "      <td>6.885650e+06</td>\n",
              "      <td>116658</td>\n",
              "      <td>25491</td>\n",
              "      <td>74868704</td>\n",
              "    </tr>\n",
              "    <tr>\n",
              "      <th>12137805</th>\n",
              "      <td>9.219361e+06</td>\n",
              "      <td>636017</td>\n",
              "      <td>82877</td>\n",
              "      <td>26120440</td>\n",
              "    </tr>\n",
              "    <tr>\n",
              "      <th>12137806</th>\n",
              "      <td>8.720884e+06</td>\n",
              "      <td>917105</td>\n",
              "      <td>84987</td>\n",
              "      <td>76367582</td>\n",
              "    </tr>\n",
              "    <tr>\n",
              "      <th>12137807</th>\n",
              "      <td>6.908273e+06</td>\n",
              "      <td>302637</td>\n",
              "      <td>34670</td>\n",
              "      <td>41475976</td>\n",
              "    </tr>\n",
              "    <tr>\n",
              "      <th>12137808</th>\n",
              "      <td>8.075597e+06</td>\n",
              "      <td>382869</td>\n",
              "      <td>40339</td>\n",
              "      <td>43452411</td>\n",
              "    </tr>\n",
              "    <tr>\n",
              "      <th>12137809</th>\n",
              "      <td>5.020883e+06</td>\n",
              "      <td>879032</td>\n",
              "      <td>92704</td>\n",
              "      <td>95441506</td>\n",
              "    </tr>\n",
              "  </tbody>\n",
              "</table>\n",
              "<p>12137810 rows × 4 columns</p>\n",
              "</div>"
            ],
            "text/plain": [
              "                siteid  offerid  category  merchant\n",
              "0         4.709696e+06   887235     17714  20301556\n",
              "1         5.189467e+06   178235     21407   9434818\n",
              "2         9.848000e+04   518539     25085   2050923\n",
              "3         8.896401e+06   390352     40339  72089744\n",
              "4         5.635120e+06   472937     12052  39507200\n",
              "5         2.729292e+06   961176     33638  47079934\n",
              "6         7.007059e+06   664666     68847  58604466\n",
              "7         7.295565e+06   144797     33638  23981625\n",
              "8         2.116058e+06   376073     15912  30860214\n",
              "9         5.329483e+06   952097     89680  74363610\n",
              "10        6.436389e+06   949077     76239  65017662\n",
              "11        6.401189e+06    68770     43612  74868704\n",
              "12        6.139730e+06   781977     97863  56008048\n",
              "13        6.718234e+06   433512     43612  57517812\n",
              "14        2.797042e+06   901997     17714  26391770\n",
              "15        6.313991e+06    31957     71642  27723861\n",
              "16        4.696030e+05   385750     93286   7122654\n",
              "17        4.260541e+06   301045     17714  26391770\n",
              "18        7.444049e+06   493707     12211  58163546\n",
              "19        2.912790e+05   640355     41706   4000296\n",
              "20        4.865000e+04   746289     81229  35819606\n",
              "21        7.147868e+06   843837       904   2050923\n",
              "22        6.510239e+06   437670     34670  78365183\n",
              "23        3.723198e+06   539380     10345  33683592\n",
              "24        8.538828e+06   771257     73248  57777528\n",
              "25        5.914861e+06   512213     42227  95013373\n",
              "26        3.230001e+06   681102     96184  93157824\n",
              "27        8.672716e+06   287296     79668  81758577\n",
              "28        4.989750e+06   461432     73248  83960204\n",
              "29        8.022638e+06   416718     64452  65017662\n",
              "...                ...      ...       ...       ...\n",
              "12137780  4.073238e+06   464102     21407  43179292\n",
              "12137781  5.222940e+05   669706     35368  90093962\n",
              "12137782  4.800985e+06   441368     54343  71193712\n",
              "12137783  4.538931e+06   877067     45620  31388981\n",
              "12137784  3.226512e+06    32183     40339  43452411\n",
              "12137785  5.134739e+06   552966     96184  22050486\n",
              "12137786  5.765313e+06    61740     93188  91553313\n",
              "12137787  5.020883e+06   760911     46365  26391770\n",
              "12137788  9.014985e+06   366800     17714  26391770\n",
              "12137789  3.838729e+06   915326     49810  15961717\n",
              "12137790  5.020883e+06   305821     34670  87807327\n",
              "12137791  5.325283e+06   798546      6906  99510044\n",
              "12137792  7.834055e+06   377612     96184  93157824\n",
              "12137793  7.429107e+06   304728     40339  37135965\n",
              "12137794  3.737860e+06   710003     60316  74868704\n",
              "12137795  7.942356e+06   538799     42227  18243870\n",
              "12137796  5.020883e+06   383962     34670  87807327\n",
              "12137797  5.020883e+06   384099     10345  64511164\n",
              "12137798  8.140575e+06   480796     33638  13789995\n",
              "12137799  8.538828e+06   148635     25491  79474990\n",
              "12137800  5.144783e+06    65165     17714  26391770\n",
              "12137801  2.246326e+06   109612     40339  43452411\n",
              "12137802  2.392070e+06    96840     17714  29916445\n",
              "12137803  6.559619e+06   175801     61302  20301556\n",
              "12137804  6.885650e+06   116658     25491  74868704\n",
              "12137805  9.219361e+06   636017     82877  26120440\n",
              "12137806  8.720884e+06   917105     84987  76367582\n",
              "12137807  6.908273e+06   302637     34670  41475976\n",
              "12137808  8.075597e+06   382869     40339  43452411\n",
              "12137809  5.020883e+06   879032     92704  95441506\n",
              "\n",
              "[12137810 rows x 4 columns]"
            ]
          },
          "metadata": {
            "tags": []
          },
          "execution_count": 52
        }
      ]
    },
    {
      "metadata": {
        "id": "ojBvQmCK8KIB",
        "colab_type": "code",
        "colab": {
          "base_uri": "https://localhost:8080/",
          "height": 1992
        },
        "outputId": "0d0ecdba-e6f6-43b7-9da5-3ba2a493b65c"
      },
      "cell_type": "code",
      "source": [
        "y"
      ],
      "execution_count": 53,
      "outputs": [
        {
          "output_type": "execute_result",
          "data": {
            "text/html": [
              "<div>\n",
              "<style scoped>\n",
              "    .dataframe tbody tr th:only-of-type {\n",
              "        vertical-align: middle;\n",
              "    }\n",
              "\n",
              "    .dataframe tbody tr th {\n",
              "        vertical-align: top;\n",
              "    }\n",
              "\n",
              "    .dataframe thead th {\n",
              "        text-align: right;\n",
              "    }\n",
              "</style>\n",
              "<table border=\"1\" class=\"dataframe\">\n",
              "  <thead>\n",
              "    <tr style=\"text-align: right;\">\n",
              "      <th></th>\n",
              "      <th>click</th>\n",
              "    </tr>\n",
              "  </thead>\n",
              "  <tbody>\n",
              "    <tr>\n",
              "      <th>0</th>\n",
              "      <td>0</td>\n",
              "    </tr>\n",
              "    <tr>\n",
              "      <th>1</th>\n",
              "      <td>0</td>\n",
              "    </tr>\n",
              "    <tr>\n",
              "      <th>2</th>\n",
              "      <td>0</td>\n",
              "    </tr>\n",
              "    <tr>\n",
              "      <th>3</th>\n",
              "      <td>0</td>\n",
              "    </tr>\n",
              "    <tr>\n",
              "      <th>4</th>\n",
              "      <td>0</td>\n",
              "    </tr>\n",
              "    <tr>\n",
              "      <th>5</th>\n",
              "      <td>0</td>\n",
              "    </tr>\n",
              "    <tr>\n",
              "      <th>6</th>\n",
              "      <td>0</td>\n",
              "    </tr>\n",
              "    <tr>\n",
              "      <th>7</th>\n",
              "      <td>0</td>\n",
              "    </tr>\n",
              "    <tr>\n",
              "      <th>8</th>\n",
              "      <td>0</td>\n",
              "    </tr>\n",
              "    <tr>\n",
              "      <th>9</th>\n",
              "      <td>0</td>\n",
              "    </tr>\n",
              "    <tr>\n",
              "      <th>10</th>\n",
              "      <td>0</td>\n",
              "    </tr>\n",
              "    <tr>\n",
              "      <th>11</th>\n",
              "      <td>0</td>\n",
              "    </tr>\n",
              "    <tr>\n",
              "      <th>12</th>\n",
              "      <td>0</td>\n",
              "    </tr>\n",
              "    <tr>\n",
              "      <th>13</th>\n",
              "      <td>1</td>\n",
              "    </tr>\n",
              "    <tr>\n",
              "      <th>14</th>\n",
              "      <td>0</td>\n",
              "    </tr>\n",
              "    <tr>\n",
              "      <th>15</th>\n",
              "      <td>0</td>\n",
              "    </tr>\n",
              "    <tr>\n",
              "      <th>16</th>\n",
              "      <td>1</td>\n",
              "    </tr>\n",
              "    <tr>\n",
              "      <th>17</th>\n",
              "      <td>0</td>\n",
              "    </tr>\n",
              "    <tr>\n",
              "      <th>18</th>\n",
              "      <td>0</td>\n",
              "    </tr>\n",
              "    <tr>\n",
              "      <th>19</th>\n",
              "      <td>0</td>\n",
              "    </tr>\n",
              "    <tr>\n",
              "      <th>20</th>\n",
              "      <td>0</td>\n",
              "    </tr>\n",
              "    <tr>\n",
              "      <th>21</th>\n",
              "      <td>0</td>\n",
              "    </tr>\n",
              "    <tr>\n",
              "      <th>22</th>\n",
              "      <td>0</td>\n",
              "    </tr>\n",
              "    <tr>\n",
              "      <th>23</th>\n",
              "      <td>0</td>\n",
              "    </tr>\n",
              "    <tr>\n",
              "      <th>24</th>\n",
              "      <td>0</td>\n",
              "    </tr>\n",
              "    <tr>\n",
              "      <th>25</th>\n",
              "      <td>0</td>\n",
              "    </tr>\n",
              "    <tr>\n",
              "      <th>26</th>\n",
              "      <td>0</td>\n",
              "    </tr>\n",
              "    <tr>\n",
              "      <th>27</th>\n",
              "      <td>0</td>\n",
              "    </tr>\n",
              "    <tr>\n",
              "      <th>28</th>\n",
              "      <td>0</td>\n",
              "    </tr>\n",
              "    <tr>\n",
              "      <th>29</th>\n",
              "      <td>0</td>\n",
              "    </tr>\n",
              "    <tr>\n",
              "      <th>...</th>\n",
              "      <td>...</td>\n",
              "    </tr>\n",
              "    <tr>\n",
              "      <th>12137780</th>\n",
              "      <td>0</td>\n",
              "    </tr>\n",
              "    <tr>\n",
              "      <th>12137781</th>\n",
              "      <td>0</td>\n",
              "    </tr>\n",
              "    <tr>\n",
              "      <th>12137782</th>\n",
              "      <td>0</td>\n",
              "    </tr>\n",
              "    <tr>\n",
              "      <th>12137783</th>\n",
              "      <td>0</td>\n",
              "    </tr>\n",
              "    <tr>\n",
              "      <th>12137784</th>\n",
              "      <td>0</td>\n",
              "    </tr>\n",
              "    <tr>\n",
              "      <th>12137785</th>\n",
              "      <td>0</td>\n",
              "    </tr>\n",
              "    <tr>\n",
              "      <th>12137786</th>\n",
              "      <td>0</td>\n",
              "    </tr>\n",
              "    <tr>\n",
              "      <th>12137787</th>\n",
              "      <td>0</td>\n",
              "    </tr>\n",
              "    <tr>\n",
              "      <th>12137788</th>\n",
              "      <td>0</td>\n",
              "    </tr>\n",
              "    <tr>\n",
              "      <th>12137789</th>\n",
              "      <td>0</td>\n",
              "    </tr>\n",
              "    <tr>\n",
              "      <th>12137790</th>\n",
              "      <td>0</td>\n",
              "    </tr>\n",
              "    <tr>\n",
              "      <th>12137791</th>\n",
              "      <td>0</td>\n",
              "    </tr>\n",
              "    <tr>\n",
              "      <th>12137792</th>\n",
              "      <td>0</td>\n",
              "    </tr>\n",
              "    <tr>\n",
              "      <th>12137793</th>\n",
              "      <td>0</td>\n",
              "    </tr>\n",
              "    <tr>\n",
              "      <th>12137794</th>\n",
              "      <td>0</td>\n",
              "    </tr>\n",
              "    <tr>\n",
              "      <th>12137795</th>\n",
              "      <td>0</td>\n",
              "    </tr>\n",
              "    <tr>\n",
              "      <th>12137796</th>\n",
              "      <td>0</td>\n",
              "    </tr>\n",
              "    <tr>\n",
              "      <th>12137797</th>\n",
              "      <td>0</td>\n",
              "    </tr>\n",
              "    <tr>\n",
              "      <th>12137798</th>\n",
              "      <td>0</td>\n",
              "    </tr>\n",
              "    <tr>\n",
              "      <th>12137799</th>\n",
              "      <td>0</td>\n",
              "    </tr>\n",
              "    <tr>\n",
              "      <th>12137800</th>\n",
              "      <td>0</td>\n",
              "    </tr>\n",
              "    <tr>\n",
              "      <th>12137801</th>\n",
              "      <td>0</td>\n",
              "    </tr>\n",
              "    <tr>\n",
              "      <th>12137802</th>\n",
              "      <td>0</td>\n",
              "    </tr>\n",
              "    <tr>\n",
              "      <th>12137803</th>\n",
              "      <td>0</td>\n",
              "    </tr>\n",
              "    <tr>\n",
              "      <th>12137804</th>\n",
              "      <td>0</td>\n",
              "    </tr>\n",
              "    <tr>\n",
              "      <th>12137805</th>\n",
              "      <td>0</td>\n",
              "    </tr>\n",
              "    <tr>\n",
              "      <th>12137806</th>\n",
              "      <td>0</td>\n",
              "    </tr>\n",
              "    <tr>\n",
              "      <th>12137807</th>\n",
              "      <td>0</td>\n",
              "    </tr>\n",
              "    <tr>\n",
              "      <th>12137808</th>\n",
              "      <td>0</td>\n",
              "    </tr>\n",
              "    <tr>\n",
              "      <th>12137809</th>\n",
              "      <td>0</td>\n",
              "    </tr>\n",
              "  </tbody>\n",
              "</table>\n",
              "<p>12137810 rows × 1 columns</p>\n",
              "</div>"
            ],
            "text/plain": [
              "          click\n",
              "0             0\n",
              "1             0\n",
              "2             0\n",
              "3             0\n",
              "4             0\n",
              "5             0\n",
              "6             0\n",
              "7             0\n",
              "8             0\n",
              "9             0\n",
              "10            0\n",
              "11            0\n",
              "12            0\n",
              "13            1\n",
              "14            0\n",
              "15            0\n",
              "16            1\n",
              "17            0\n",
              "18            0\n",
              "19            0\n",
              "20            0\n",
              "21            0\n",
              "22            0\n",
              "23            0\n",
              "24            0\n",
              "25            0\n",
              "26            0\n",
              "27            0\n",
              "28            0\n",
              "29            0\n",
              "...         ...\n",
              "12137780      0\n",
              "12137781      0\n",
              "12137782      0\n",
              "12137783      0\n",
              "12137784      0\n",
              "12137785      0\n",
              "12137786      0\n",
              "12137787      0\n",
              "12137788      0\n",
              "12137789      0\n",
              "12137790      0\n",
              "12137791      0\n",
              "12137792      0\n",
              "12137793      0\n",
              "12137794      0\n",
              "12137795      0\n",
              "12137796      0\n",
              "12137797      0\n",
              "12137798      0\n",
              "12137799      0\n",
              "12137800      0\n",
              "12137801      0\n",
              "12137802      0\n",
              "12137803      0\n",
              "12137804      0\n",
              "12137805      0\n",
              "12137806      0\n",
              "12137807      0\n",
              "12137808      0\n",
              "12137809      0\n",
              "\n",
              "[12137810 rows x 1 columns]"
            ]
          },
          "metadata": {
            "tags": []
          },
          "execution_count": 53
        }
      ]
    },
    {
      "metadata": {
        "id": "zoReXTKsxmB_",
        "colab_type": "code",
        "colab": {}
      },
      "cell_type": "code",
      "source": [
        "from sklearn.model_selection import train_test_split"
      ],
      "execution_count": 0,
      "outputs": []
    },
    {
      "metadata": {
        "id": "5jG6FWpyx03A",
        "colab_type": "code",
        "colab": {}
      },
      "cell_type": "code",
      "source": [
        "X_train,X_test,y_train,y_test = train_test_split(X,y,test_size=0.4,random_state=42)"
      ],
      "execution_count": 0,
      "outputs": []
    },
    {
      "metadata": {
        "id": "esf_GKW3ybCE",
        "colab_type": "code",
        "colab": {}
      },
      "cell_type": "code",
      "source": [
        "from sklearn.tree import DecisionTreeClassifier"
      ],
      "execution_count": 0,
      "outputs": []
    },
    {
      "metadata": {
        "id": "WZOxh-_4yyro",
        "colab_type": "code",
        "colab": {}
      },
      "cell_type": "code",
      "source": [
        "dtc = DecisionTreeClassifier()"
      ],
      "execution_count": 0,
      "outputs": []
    },
    {
      "metadata": {
        "id": "y6mOoZlJy8Ms",
        "colab_type": "code",
        "colab": {
          "base_uri": "https://localhost:8080/",
          "height": 121
        },
        "outputId": "36c93b9d-a9a9-4b11-b047-21bd4a33215b"
      },
      "cell_type": "code",
      "source": [
        "dtc.fit(X,y)"
      ],
      "execution_count": 56,
      "outputs": [
        {
          "output_type": "execute_result",
          "data": {
            "text/plain": [
              "DecisionTreeClassifier(class_weight=None, criterion='gini', max_depth=None,\n",
              "            max_features=None, max_leaf_nodes=None,\n",
              "            min_impurity_decrease=0.0, min_impurity_split=None,\n",
              "            min_samples_leaf=1, min_samples_split=2,\n",
              "            min_weight_fraction_leaf=0.0, presort=False, random_state=None,\n",
              "            splitter='best')"
            ]
          },
          "metadata": {
            "tags": []
          },
          "execution_count": 56
        }
      ]
    },
    {
      "metadata": {
        "id": "VvP88KLUzCCZ",
        "colab_type": "code",
        "colab": {}
      },
      "cell_type": "code",
      "source": [
        "prediction = dtc.predict(test)"
      ],
      "execution_count": 0,
      "outputs": []
    },
    {
      "metadata": {
        "id": "tmbgzsNRzdHl",
        "colab_type": "code",
        "colab": {
          "base_uri": "https://localhost:8080/",
          "height": 282
        },
        "outputId": "7773f288-dedd-4aaa-c7c4-fc81980fe328"
      },
      "cell_type": "code",
      "source": [
        "#plt.scatter(test,prediction)"
      ],
      "execution_count": 18,
      "outputs": [
        {
          "output_type": "execute_result",
          "data": {
            "text/plain": [
              "<matplotlib.collections.PathCollection at 0x7fbdde347cf8>"
            ]
          },
          "metadata": {
            "tags": []
          },
          "execution_count": 18
        },
        {
          "output_type": "display_data",
          "data": {
            "image/png": "[encoded data removed]",
            "text/plain": [
              "<matplotlib.figure.Figure at 0x7fbdde3ee0b8>"
            ]
          },
          "metadata": {
            "tags": []
          }
        }
      ]
    },
    {
      "metadata": {
        "id": "Q5TX9Eyk0TNj",
        "colab_type": "code",
        "colab": {}
      },
      "cell_type": "code",
      "source": [
        "#from sklearn.metrics import classification_report,confusion_matrix,accuracy_score"
      ],
      "execution_count": 0,
      "outputs": []
    },
    {
      "metadata": {
        "id": "H5y36YhZ01tk",
        "colab_type": "code",
        "colab": {
          "base_uri": "https://localhost:8080/",
          "height": 52
        },
        "outputId": "75fb1bb3-962a-4f0e-a88d-212d44949c65"
      },
      "cell_type": "code",
      "source": [
        "#print(confusion_matrix(y_test,prediction))"
      ],
      "execution_count": 20,
      "outputs": [
        {
          "output_type": "stream",
          "text": [
            "[[4590167   90023]\n",
            " [ 107221   67713]]\n"
          ],
          "name": "stdout"
        }
      ]
    },
    {
      "metadata": {
        "id": "eTfedQoA1h4f",
        "colab_type": "code",
        "colab": {
          "base_uri": "https://localhost:8080/",
          "height": 139
        },
        "outputId": "d7bc8bd9-6c3e-4f1e-b192-1ad446424e4f"
      },
      "cell_type": "code",
      "source": [
        "#print(classification_report(y_test,prediction))"
      ],
      "execution_count": 21,
      "outputs": [
        {
          "output_type": "stream",
          "text": [
            "             precision    recall  f1-score   support\n",
            "\n",
            "          0       0.98      0.98      0.98   4680190\n",
            "          1       0.43      0.39      0.41    174934\n",
            "\n",
            "avg / total       0.96      0.96      0.96   4855124\n",
            "\n"
          ],
          "name": "stdout"
        }
      ]
    },
    {
      "metadata": {
        "id": "0K7flpWx1qlm",
        "colab_type": "code",
        "colab": {
          "base_uri": "https://localhost:8080/",
          "height": 34
        },
        "outputId": "9a199bf3-b12a-4eed-8ef9-25be233d29bf"
      },
      "cell_type": "code",
      "source": [
        "#print(accuracy_score(y_test,prediction))"
      ],
      "execution_count": 24,
      "outputs": [
        {
          "output_type": "stream",
          "text": [
            "0.9593740551219702\n"
          ],
          "name": "stdout"
        }
      ]
    },
    {
      "metadata": {
        "id": "-s5gy_j2tB_L",
        "colab_type": "code",
        "colab": {
          "base_uri": "https://localhost:8080/",
          "height": 34
        },
        "outputId": "ad7d1b9c-02a5-4248-e63f-c62aff9eac70"
      },
      "cell_type": "code",
      "source": [
        "prediction"
      ],
      "execution_count": 58,
      "outputs": [
        {
          "output_type": "execute_result",
          "data": {
            "text/plain": [
              "array([0, 0, 0, ..., 0, 0, 0])"
            ]
          },
          "metadata": {
            "tags": []
          },
          "execution_count": 58
        }
      ]
    },
    {
      "metadata": {
        "id": "O37-a58GBmss",
        "colab_type": "code",
        "colab": {}
      },
      "cell_type": "code",
      "source": [
        "pred_df = pd.DataFrame({'ID' : test_id, 'click' : prediction})\n",
        "# Create submission file\n",
        "\n",
        "pred_df.to_csv(\"drive/My Drive/hackerearth_data/submission.csv\", index=False)"
      ],
      "execution_count": 0,
      "outputs": []
    },
    {
      "metadata": {
        "id": "SACkci5SGN9M",
        "colab_type": "code",
        "colab": {}
      },
      "cell_type": "code",
      "source": [
        ""
      ],
      "execution_count": 0,
      "outputs": []
    }
  ]
}